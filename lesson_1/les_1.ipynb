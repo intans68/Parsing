{
 "cells": [
  {
   "cell_type": "code",
   "execution_count": null,
   "metadata": {},
   "outputs": [],
   "source": [
    "#######  № 1"
   ]
  },
  {
   "cell_type": "code",
   "execution_count": 2,
   "metadata": {},
   "outputs": [],
   "source": [
    "import requests\n",
    "import json"
   ]
  },
  {
   "cell_type": "code",
   "execution_count": 16,
   "metadata": {},
   "outputs": [],
   "source": [
    "link = \"https://api.github.com\"\n",
    "name = \"intans68\""
   ]
  },
  {
   "cell_type": "code",
   "execution_count": 17,
   "metadata": {},
   "outputs": [],
   "source": [
    "otvet = requests.get(\"{}/users/{}/repos\".format(link, name))"
   ]
  },
  {
   "cell_type": "code",
   "execution_count": 18,
   "metadata": {},
   "outputs": [
    {
     "data": {
      "text/plain": [
       "'[{\"id\":255146804,\"node_id\":\"MDEwOlJlcG9zaXRvcnkyNTUxNDY4MDQ=\",\"name\":\"Geek_Data_Science\",\"full_name\":\"intans68/Geek_Data_Science\",\"private\":false,\"owner\":{\"login\":\"intans68\",\"id\":50239728,\"node_id\":\"MDQ6VXNlcjUwMjM5NzI4\",\"avatar_url\":\"https://avatars3.githubusercontent.com/u/50239728?v=4\",\"gravatar_id\":\"\",\"url\":\"https://api.github.com/users/intans68\",\"html_url\":\"https://github.com/intans68\",\"followers_url\":\"https://api.github.com/users/intans68/followers\",\"following_url\":\"https://api.github.com/users/intans68/following{/other_user}\",\"gists_url\":\"https://api.github.com/users/intans68/gists{/gist_id}\",\"starred_url\":\"https://api.github.com/users/intans68/starred{/owner}{/repo}\",\"subscriptions_url\":\"https://api.github.com/users/intans68/subscriptions\",\"organizations_url\":\"https://api.github.com/users/intans68/orgs\",\"repos_url\":\"https://api.github.com/users/intans68/repos\",\"events_url\":\"https://api.github.com/users/intans68/events{/privacy}\",\"received_events_url\":\"https://api.github.com/users/intans68/received_events\",\"type\":\"User\",\"site_admin\":false},\"html_url\":\"https://github.com/intans68/Geek_Data_Science\",\"description\":null,\"fork\":false,\"url\":\"https://api.github.com/repos/intans68/Geek_Data_Science\",\"forks_url\":\"https://api.github.com/repos/intans68/Geek_Data_Science/forks\",\"keys_url\":\"https://api.github.com/repos/intans68/Geek_Data_Science/keys{/key_id}\",\"collaborators_url\":\"https://api.github.com/repos/intans68/Geek_Data_Science/collaborators{/collaborator}\",\"teams_url\":\"https://api.github.com/repos/intans68/Geek_Data_Science/teams\",\"hooks_url\":\"https://api.github.com/repos/intans68/Geek_Data_Science/hooks\",\"issue_events_url\":\"https://api.github.com/repos/intans68/Geek_Data_Science/issues/events{/number}\",\"events_url\":\"https://api.github.com/repos/intans68/Geek_Data_Science/events\",\"assignees_url\":\"https://api.github.com/repos/intans68/Geek_Data_Science/assignees{/user}\",\"branches_url\":\"https://api.github.com/repos/intans68/Geek_Data_Science/branches{/branch}\",\"tags_url\":\"https://api.github.com/repos/intans68/Geek_Data_Science/tags\",\"blobs_url\":\"https://api.github.com/repos/intans68/Geek_Data_Science/git/blobs{/sha}\",\"git_tags_url\":\"https://api.github.com/repos/intans68/Geek_Data_Science/git/tags{/sha}\",\"git_refs_url\":\"https://api.github.com/repos/intans68/Geek_Data_Science/git/refs{/sha}\",\"trees_url\":\"https://api.github.com/repos/intans68/Geek_Data_Science/git/trees{/sha}\",\"statuses_url\":\"https://api.github.com/repos/intans68/Geek_Data_Science/statuses/{sha}\",\"languages_url\":\"https://api.github.com/repos/intans68/Geek_Data_Science/languages\",\"stargazers_url\":\"https://api.github.com/repos/intans68/Geek_Data_Science/stargazers\",\"contributors_url\":\"https://api.github.com/repos/intans68/Geek_Data_Science/contributors\",\"subscribers_url\":\"https://api.github.com/repos/intans68/Geek_Data_Science/subscribers\",\"subscription_url\":\"https://api.github.com/repos/intans68/Geek_Data_Science/subscription\",\"commits_url\":\"https://api.github.com/repos/intans68/Geek_Data_Science/commits{/sha}\",\"git_commits_url\":\"https://api.github.com/repos/intans68/Geek_Data_Science/git/commits{/sha}\",\"comments_url\":\"https://api.github.com/repos/intans68/Geek_Data_Science/comments{/number}\",\"issue_comment_url\":\"https://api.github.com/repos/intans68/Geek_Data_Science/issues/comments{/number}\",\"contents_url\":\"https://api.github.com/repos/intans68/Geek_Data_Science/contents/{+path}\",\"compare_url\":\"https://api.github.com/repos/intans68/Geek_Data_Science/compare/{base}...{head}\",\"merges_url\":\"https://api.github.com/repos/intans68/Geek_Data_Science/merges\",\"archive_url\":\"https://api.github.com/repos/intans68/Geek_Data_Science/{archive_format}{/ref}\",\"downloads_url\":\"https://api.github.com/repos/intans68/Geek_Data_Science/downloads\",\"issues_url\":\"https://api.github.com/repos/intans68/Geek_Data_Science/issues{/number}\",\"pulls_url\":\"https://api.github.com/repos/intans68/Geek_Data_Science/pulls{/number}\",\"milestones_url\":\"https://api.github.com/repos/intans68/Geek_Data_Science/milestones{/number}\",\"notifications_url\":\"https://api.github.com/repos/intans68/Geek_Data_Science/notifications{?since,all,participating}\",\"labels_url\":\"https://api.github.com/repos/intans68/Geek_Data_Science/labels{/name}\",\"releases_url\":\"https://api.github.com/repos/intans68/Geek_Data_Science/releases{/id}\",\"deployments_url\":\"https://api.github.com/repos/intans68/Geek_Data_Science/deployments\",\"created_at\":\"2020-04-12T18:38:15Z\",\"updated_at\":\"2020-04-13T00:08:23Z\",\"pushed_at\":\"2020-04-21T21:12:49Z\",\"git_url\":\"git://github.com/intans68/Geek_Data_Science.git\",\"ssh_url\":\"git@github.com:intans68/Geek_Data_Science.git\",\"clone_url\":\"https://github.com/intans68/Geek_Data_Science.git\",\"svn_url\":\"https://github.com/intans68/Geek_Data_Science\",\"homepage\":null,\"size\":124,\"stargazers_count\":0,\"watchers_count\":0,\"language\":\"Jupyter Notebook\",\"has_issues\":true,\"has_projects\":true,\"has_downloads\":true,\"has_wiki\":true,\"has_pages\":false,\"forks_count\":0,\"mirror_url\":null,\"archived\":false,\"disabled\":false,\"open_issues_count\":0,\"license\":null,\"forks\":0,\"open_issues\":0,\"watchers\":0,\"default_branch\":\"master\"},{\"id\":199723157,\"node_id\":\"MDEwOlJlcG9zaXRvcnkxOTk3MjMxNTc=\",\"name\":\"mygit\",\"full_name\":\"intans68/mygit\",\"private\":false,\"owner\":{\"login\":\"intans68\",\"id\":50239728,\"node_id\":\"MDQ6VXNlcjUwMjM5NzI4\",\"avatar_url\":\"https://avatars3.githubusercontent.com/u/50239728?v=4\",\"gravatar_id\":\"\",\"url\":\"https://api.github.com/users/intans68\",\"html_url\":\"https://github.com/intans68\",\"followers_url\":\"https://api.github.com/users/intans68/followers\",\"following_url\":\"https://api.github.com/users/intans68/following{/other_user}\",\"gists_url\":\"https://api.github.com/users/intans68/gists{/gist_id}\",\"starred_url\":\"https://api.github.com/users/intans68/starred{/owner}{/repo}\",\"subscriptions_url\":\"https://api.github.com/users/intans68/subscriptions\",\"organizations_url\":\"https://api.github.com/users/intans68/orgs\",\"repos_url\":\"https://api.github.com/users/intans68/repos\",\"events_url\":\"https://api.github.com/users/intans68/events{/privacy}\",\"received_events_url\":\"https://api.github.com/users/intans68/received_events\",\"type\":\"User\",\"site_admin\":false},\"html_url\":\"https://github.com/intans68/mygit\",\"description\":null,\"fork\":false,\"url\":\"https://api.github.com/repos/intans68/mygit\",\"forks_url\":\"https://api.github.com/repos/intans68/mygit/forks\",\"keys_url\":\"https://api.github.com/repos/intans68/mygit/keys{/key_id}\",\"collaborators_url\":\"https://api.github.com/repos/intans68/mygit/collaborators{/collaborator}\",\"teams_url\":\"https://api.github.com/repos/intans68/mygit/teams\",\"hooks_url\":\"https://api.github.com/repos/intans68/mygit/hooks\",\"issue_events_url\":\"https://api.github.com/repos/intans68/mygit/issues/events{/number}\",\"events_url\":\"https://api.github.com/repos/intans68/mygit/events\",\"assignees_url\":\"https://api.github.com/repos/intans68/mygit/assignees{/user}\",\"branches_url\":\"https://api.github.com/repos/intans68/mygit/branches{/branch}\",\"tags_url\":\"https://api.github.com/repos/intans68/mygit/tags\",\"blobs_url\":\"https://api.github.com/repos/intans68/mygit/git/blobs{/sha}\",\"git_tags_url\":\"https://api.github.com/repos/intans68/mygit/git/tags{/sha}\",\"git_refs_url\":\"https://api.github.com/repos/intans68/mygit/git/refs{/sha}\",\"trees_url\":\"https://api.github.com/repos/intans68/mygit/git/trees{/sha}\",\"statuses_url\":\"https://api.github.com/repos/intans68/mygit/statuses/{sha}\",\"languages_url\":\"https://api.github.com/repos/intans68/mygit/languages\",\"stargazers_url\":\"https://api.github.com/repos/intans68/mygit/stargazers\",\"contributors_url\":\"https://api.github.com/repos/intans68/mygit/contributors\",\"subscribers_url\":\"https://api.github.com/repos/intans68/mygit/subscribers\",\"subscription_url\":\"https://api.github.com/repos/intans68/mygit/subscription\",\"commits_url\":\"https://api.github.com/repos/intans68/mygit/commits{/sha}\",\"git_commits_url\":\"https://api.github.com/repos/intans68/mygit/git/commits{/sha}\",\"comments_url\":\"https://api.github.com/repos/intans68/mygit/comments{/number}\",\"issue_comment_url\":\"https://api.github.com/repos/intans68/mygit/issues/comments{/number}\",\"contents_url\":\"https://api.github.com/repos/intans68/mygit/contents/{+path}\",\"compare_url\":\"https://api.github.com/repos/intans68/mygit/compare/{base}...{head}\",\"merges_url\":\"https://api.github.com/repos/intans68/mygit/merges\",\"archive_url\":\"https://api.github.com/repos/intans68/mygit/{archive_format}{/ref}\",\"downloads_url\":\"https://api.github.com/repos/intans68/mygit/downloads\",\"issues_url\":\"https://api.github.com/repos/intans68/mygit/issues{/number}\",\"pulls_url\":\"https://api.github.com/repos/intans68/mygit/pulls{/number}\",\"milestones_url\":\"https://api.github.com/repos/intans68/mygit/milestones{/number}\",\"notifications_url\":\"https://api.github.com/repos/intans68/mygit/notifications{?since,all,participating}\",\"labels_url\":\"https://api.github.com/repos/intans68/mygit/labels{/name}\",\"releases_url\":\"https://api.github.com/repos/intans68/mygit/releases{/id}\",\"deployments_url\":\"https://api.github.com/repos/intans68/mygit/deployments\",\"created_at\":\"2019-07-30T20:33:05Z\",\"updated_at\":\"2020-04-12T18:29:09Z\",\"pushed_at\":\"2020-04-12T18:29:07Z\",\"git_url\":\"git://github.com/intans68/mygit.git\",\"ssh_url\":\"git@github.com:intans68/mygit.git\",\"clone_url\":\"https://github.com/intans68/mygit.git\",\"svn_url\":\"https://github.com/intans68/mygit\",\"homepage\":null,\"size\":1,\"stargazers_count\":0,\"watchers_count\":0,\"language\":null,\"has_issues\":true,\"has_projects\":true,\"has_downloads\":true,\"has_wiki\":true,\"has_pages\":false,\"forks_count\":0,\"mirror_url\":null,\"archived\":false,\"disabled\":false,\"open_issues_count\":0,\"license\":null,\"forks\":0,\"open_issues\":0,\"watchers\":0,\"default_branch\":\"master\"},{\"id\":184765512,\"node_id\":\"MDEwOlJlcG9zaXRvcnkxODQ3NjU1MTI=\",\"name\":\"tensorflow\",\"full_name\":\"intans68/tensorflow\",\"private\":false,\"owner\":{\"login\":\"intans68\",\"id\":50239728,\"node_id\":\"MDQ6VXNlcjUwMjM5NzI4\",\"avatar_url\":\"https://avatars3.githubusercontent.com/u/50239728?v=4\",\"gravatar_id\":\"\",\"url\":\"https://api.github.com/users/intans68\",\"html_url\":\"https://github.com/intans68\",\"followers_url\":\"https://api.github.com/users/intans68/followers\",\"following_url\":\"https://api.github.com/users/intans68/following{/other_user}\",\"gists_url\":\"https://api.github.com/users/intans68/gists{/gist_id}\",\"starred_url\":\"https://api.github.com/users/intans68/starred{/owner}{/repo}\",\"subscriptions_url\":\"https://api.github.com/users/intans68/subscriptions\",\"organizations_url\":\"https://api.github.com/users/intans68/orgs\",\"repos_url\":\"https://api.github.com/users/intans68/repos\",\"events_url\":\"https://api.github.com/users/intans68/events{/privacy}\",\"received_events_url\":\"https://api.github.com/users/intans68/received_events\",\"type\":\"User\",\"site_admin\":false},\"html_url\":\"https://github.com/intans68/tensorflow\",\"description\":\"An Open Source Machine Learning Framework for Everyone\",\"fork\":true,\"url\":\"https://api.github.com/repos/intans68/tensorflow\",\"forks_url\":\"https://api.github.com/repos/intans68/tensorflow/forks\",\"keys_url\":\"https://api.github.com/repos/intans68/tensorflow/keys{/key_id}\",\"collaborators_url\":\"https://api.github.com/repos/intans68/tensorflow/collaborators{/collaborator}\",\"teams_url\":\"https://api.github.com/repos/intans68/tensorflow/teams\",\"hooks_url\":\"https://api.github.com/repos/intans68/tensorflow/hooks\",\"issue_events_url\":\"https://api.github.com/repos/intans68/tensorflow/issues/events{/number}\",\"events_url\":\"https://api.github.com/repos/intans68/tensorflow/events\",\"assignees_url\":\"https://api.github.com/repos/intans68/tensorflow/assignees{/user}\",\"branches_url\":\"https://api.github.com/repos/intans68/tensorflow/branches{/branch}\",\"tags_url\":\"https://api.github.com/repos/intans68/tensorflow/tags\",\"blobs_url\":\"https://api.github.com/repos/intans68/tensorflow/git/blobs{/sha}\",\"git_tags_url\":\"https://api.github.com/repos/intans68/tensorflow/git/tags{/sha}\",\"git_refs_url\":\"https://api.github.com/repos/intans68/tensorflow/git/refs{/sha}\",\"trees_url\":\"https://api.github.com/repos/intans68/tensorflow/git/trees{/sha}\",\"statuses_url\":\"https://api.github.com/repos/intans68/tensorflow/statuses/{sha}\",\"languages_url\":\"https://api.github.com/repos/intans68/tensorflow/languages\",\"stargazers_url\":\"https://api.github.com/repos/intans68/tensorflow/stargazers\",\"contributors_url\":\"https://api.github.com/repos/intans68/tensorflow/contributors\",\"subscribers_url\":\"https://api.github.com/repos/intans68/tensorflow/subscribers\",\"subscription_url\":\"https://api.github.com/repos/intans68/tensorflow/subscription\",\"commits_url\":\"https://api.github.com/repos/intans68/tensorflow/commits{/sha}\",\"git_commits_url\":\"https://api.github.com/repos/intans68/tensorflow/git/commits{/sha}\",\"comments_url\":\"https://api.github.com/repos/intans68/tensorflow/comments{/number}\",\"issue_comment_url\":\"https://api.github.com/repos/intans68/tensorflow/issues/comments{/number}\",\"contents_url\":\"https://api.github.com/repos/intans68/tensorflow/contents/{+path}\",\"compare_url\":\"https://api.github.com/repos/intans68/tensorflow/compare/{base}...{head}\",\"merges_url\":\"https://api.github.com/repos/intans68/tensorflow/merges\",\"archive_url\":\"https://api.github.com/repos/intans68/tensorflow/{archive_format}{/ref}\",\"downloads_url\":\"https://api.github.com/repos/intans68/tensorflow/downloads\",\"issues_url\":\"https://api.github.com/repos/intans68/tensorflow/issues{/number}\",\"pulls_url\":\"https://api.github.com/repos/intans68/tensorflow/pulls{/number}\",\"milestones_url\":\"https://api.github.com/repos/intans68/tensorflow/milestones{/number}\",\"notifications_url\":\"https://api.github.com/repos/intans68/tensorflow/notifications{?since,all,participating}\",\"labels_url\":\"https://api.github.com/repos/intans68/tensorflow/labels{/name}\",\"releases_url\":\"https://api.github.com/repos/intans68/tensorflow/releases{/id}\",\"deployments_url\":\"https://api.github.com/repos/intans68/tensorflow/deployments\",\"created_at\":\"2019-05-03T14:04:06Z\",\"updated_at\":\"2019-05-03T14:05:13Z\",\"pushed_at\":\"2019-05-03T13:34:24Z\",\"git_url\":\"git://github.com/intans68/tensorflow.git\",\"ssh_url\":\"git@github.com:intans68/tensorflow.git\",\"clone_url\":\"https://github.com/intans68/tensorflow.git\",\"svn_url\":\"https://github.com/intans68/tensorflow\",\"homepage\":\"https://tensorflow.org\",\"size\":349342,\"stargazers_count\":0,\"watchers_count\":0,\"language\":\"C++\",\"has_issues\":false,\"has_projects\":true,\"has_downloads\":true,\"has_wiki\":false,\"has_pages\":false,\"forks_count\":0,\"mirror_url\":null,\"archived\":false,\"disabled\":false,\"open_issues_count\":0,\"license\":{\"key\":\"apache-2.0\",\"name\":\"Apache License 2.0\",\"spdx_id\":\"Apache-2.0\",\"url\":\"https://api.github.com/licenses/apache-2.0\",\"node_id\":\"MDc6TGljZW5zZTI=\"},\"forks\":0,\"open_issues\":0,\"watchers\":0,\"default_branch\":\"master\"}]'"
      ]
     },
     "execution_count": 18,
     "metadata": {},
     "output_type": "execute_result"
    }
   ],
   "source": [
    "otvet.text"
   ]
  },
  {
   "cell_type": "code",
   "execution_count": 12,
   "metadata": {},
   "outputs": [
    {
     "name": "stdout",
     "output_type": "stream",
     "text": [
      "Geek_Data_Science\n",
      "mygit\n",
      "tensorflow\n"
     ]
    }
   ],
   "source": [
    "for i in otvet.json():\n",
    "    print(i['name'])"
   ]
  },
  {
   "cell_type": "code",
   "execution_count": 20,
   "metadata": {},
   "outputs": [],
   "source": [
    "with open('github.json', 'w') as f:\n",
    "    json.dump(otvet.json(), f)"
   ]
  },
  {
   "cell_type": "code",
   "execution_count": null,
   "metadata": {},
   "outputs": [],
   "source": [
    "####  № 2"
   ]
  },
  {
   "cell_type": "code",
   "execution_count": null,
   "metadata": {},
   "outputs": [],
   "source": []
  },
  {
   "cell_type": "code",
   "execution_count": null,
   "metadata": {},
   "outputs": [],
   "source": []
  },
  {
   "cell_type": "code",
   "execution_count": 39,
   "metadata": {},
   "outputs": [],
   "source": [
    "url = \"https://gridforecast.com/api/v1/forecast/49.8479;35.6541/202005131200?api_token=92EJee0YMOnCuw8G\""
   ]
  },
  {
   "cell_type": "code",
   "execution_count": 40,
   "metadata": {},
   "outputs": [],
   "source": [
    "otv = requests.get(url)"
   ]
  },
  {
   "cell_type": "code",
   "execution_count": 41,
   "metadata": {},
   "outputs": [
    {
     "data": {
      "text/plain": [
       "'{\"r\": 53, \"t\": 12.1, \"sp\": 99870.3, \"aptmp\": 12, \"speed10\": 5.4, \"speed20\": 6, \"speed30\": 6.1, \"speed40\": 6.2, \"speed50\": 6.3, \"speed80\": 6.5, \"degree10\": 154, \"degree20\": 154, \"degree30\": 154, \"degree40\": 154, \"degree50\": 154, \"degree80\": 154, \"latitude\": 49.75, \"speed100\": 6.6, \"degree100\": 154, \"longitude\": 35.75}'"
      ]
     },
     "execution_count": 41,
     "metadata": {},
     "output_type": "execute_result"
    }
   ],
   "source": [
    "otv.text"
   ]
  },
  {
   "cell_type": "code",
   "execution_count": 42,
   "metadata": {},
   "outputs": [],
   "source": [
    "with open('pogoda.json', 'w') as f:\n",
    "    json.dump(otv.json(), f)"
   ]
  },
  {
   "cell_type": "code",
   "execution_count": null,
   "metadata": {},
   "outputs": [],
   "source": []
  }
 ],
 "metadata": {
  "kernelspec": {
   "display_name": "Python 3",
   "language": "python",
   "name": "python3"
  },
  "language_info": {
   "codemirror_mode": {
    "name": "ipython",
    "version": 3
   },
   "file_extension": ".py",
   "mimetype": "text/x-python",
   "name": "python",
   "nbconvert_exporter": "python",
   "pygments_lexer": "ipython3",
   "version": "3.6.8"
  }
 },
 "nbformat": 4,
 "nbformat_minor": 4
}
